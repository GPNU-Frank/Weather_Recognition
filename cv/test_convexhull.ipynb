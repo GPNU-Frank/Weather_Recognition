{
 "metadata": {
  "language_info": {
   "codemirror_mode": {
    "name": "ipython",
    "version": 3
   },
   "file_extension": ".py",
   "mimetype": "text/x-python",
   "name": "python",
   "nbconvert_exporter": "python",
   "pygments_lexer": "ipython3",
   "version": "3.8.3-final"
  },
  "orig_nbformat": 2,
  "kernelspec": {
   "name": "python3",
   "display_name": "Python 3.8.3 64-bit (virtualenv)",
   "metadata": {
    "interpreter": {
     "hash": "4905652b14e4b7eb92899b78ac499a22c488804455b27940a322fd82aaf71031"
    }
   }
  }
 },
 "nbformat": 4,
 "nbformat_minor": 2,
 "cells": [
  {
   "cell_type": "code",
   "execution_count": 97,
   "metadata": {},
   "outputs": [],
   "source": [
    "import cv2\n",
    "import PIL\n",
    "import numpy as np\n",
    "import heapq"
   ]
  },
  {
   "cell_type": "code",
   "execution_count": 120,
   "metadata": {},
   "outputs": [
    {
     "output_type": "stream",
     "name": "stdout",
     "text": [
      "../data_split_road_segment_v6/train/Cloud/12316_2021_01_25 11_56_42_53_0.jpg\n"
     ]
    }
   ],
   "source": [
    "# img_path = \"G:\\\\vscode_workspace\\\\Weather_Recognition\\\\data_split_road_segment_v5\\\\train\\\\Cloud\\\\1716_2021_01_25 11_17_33_0_0.jpg\"\n",
    "# img_path = \"‪G:\\\\vscode_workspace\\\\Weather_Recognition\\\\data_split_road_segment_v5\\\\train\\\\Cloud\\\\11532_2020_12_30 13_42_32_98.jpg\"\n",
    "# img_path = \"../data_split_road_segment_v5/train/Cloud/11532_2020_12_30 13_42_32_98.jpg\"\n",
    "# img_path = \"‪G:\\\\vscode_workspace\\\\Weather_Recognition\\\\data_split_road_segment_v5\\\\train\\\\Rainy\\\\1132_2020_12_29 14_13_15_13.jpg\"\n",
    "img_path = \"../data_split_road_segment_v6/train/Sunny/40084_2020_12_30 10_58_13_3.jpg\"\n",
    "img_path = \"../data_split_road_segment_v6/train/Fog/12048_2021_01_22 13_54_23_61.jpg\"\n",
    "img_path = \"../data_split_road_segment_v6/train/Cloud/12316_2021_01_25 11_56_42_53_0.jpg\"\n",
    "# img_path = \"../data_split_road_segment_v6/train/Fog/12048_2021_01_22 13_48_47_40.jpg\"\n",
    "\n",
    "\n",
    "# img_path = \"../data_split_road_segment_v6/train/Cloud/1716_2021_01_25 11_17_33_0_0.jpg\"\n",
    "\n",
    "\n",
    "ori_img_path = img_path.replace(\"data_split_road_segment\", \"data_split\")\n",
    "print(img_path)\n",
    "# print(ori_img)"
   ]
  },
  {
   "cell_type": "code",
   "execution_count": 121,
   "metadata": {},
   "outputs": [
    {
     "output_type": "stream",
     "name": "stdout",
     "text": [
      "[77, 65, 44]\narea:  114750.0 13054.5\n"
     ]
    }
   ],
   "source": [
    "img = cv2.imread(img_path)\n",
    "ori_img = cv2.imread(ori_img_path)\n",
    "\n",
    "\n",
    "# img = np.array(PIL.Image.open(img_path).convert('RGB'))\n",
    "# ori_img = np.array(PIL.Image.open(ori_img_path).convert('RGB'))\n",
    "\n",
    "# print(ori_img.shape)\n",
    "# print(img.shape)\n",
    "img = cv2.cvtColor(img, cv2.COLOR_RGB2GRAY)\n",
    "\n",
    "# 形态学操作\n",
    "# kernel = cv2.getStructuringElement(cv2.MORPH_RECT,(21,21))         #定义矩形结构元素\n",
    "# closed1 = cv2.morphologyEx(img, cv2.MORPH_CLOSE, kernel,iterations=1)    #闭运算1\n",
    "# closed2 = cv2.morphologyEx(img, cv2.MORPH_CLOSE, kernel,iterations=3)    #闭运算2\n",
    "\n",
    "# cv2.imshow('test1', img)\n",
    "# cv2.imshow('test2', closed1)\n",
    "# cv2.waitKey(0)\n",
    "# cv2.destroyAllWindows()\n",
    "\n",
    "contours, hierarchy = cv2.findContours(img, cv2.RETR_EXTERNAL, cv2.CHAIN_APPROX_SIMPLE)\n",
    "\n",
    "img = cv2.cvtColor(img, cv2.COLOR_GRAY2BGR)\n",
    "\n",
    "\n",
    "\n",
    "area = []\n",
    "# 找到最大的轮廓\n",
    "for k in range(len(contours)):\n",
    "\tarea.append(cv2.contourArea(contours[k]))\n",
    "\n",
    "area = np.array(area)\n",
    "max_idx, second_idx = heapq.nlargest(2, range(len(area)), area.take)\n",
    "print(res)\n",
    "# max_idx = np.argmax(np.array(area))\n",
    "# print(max_idx)\n",
    "\n",
    "# 填充最大的轮廓\n",
    "cnt = contours[max_idx]\n",
    "hull = cv2.convexHull(cnt)\n",
    "cv2.polylines(img, [hull], True, (0, 0, 255), 2)\n",
    "cv2.polylines(ori_img, [hull], True, (0, 0, 255), 2)\n",
    "\n",
    "\n",
    "\n",
    "\n",
    "# 是否填充第二个轮廓\n",
    "if area[second_idx] >= (area[max_idx] / 10):\n",
    "    cnt = contours[second_idx]\n",
    "    hull = cv2.convexHull(cnt)\n",
    "    cv2.polylines(img, [hull], True, (0, 0, 255), 2)\n",
    "    cv2.polylines(ori_img, [hull], True, (0, 0, 255), 2)\n",
    "# 获取最大轮廓面积\n",
    "print(\"area: \", area[max_idx], area[second_idx])\n",
    "\n",
    "# for cnt in contours:\n",
    "#     hull = cv2.convexHull(cnt)\n",
    "\n",
    "#     # cv2.polylines(ori_img, [hull], True, (0, 0, 255), 2)\n",
    "\n",
    "#     cv2.polylines(img, [hull], True, (0, 0, 255), 2)\n",
    "#     cv2.polylines(ori_img, [hull], True, (0, 0, 255), 2)\n",
    "\n",
    "\n",
    "cv2.imshow('convex hull', img)\n",
    "cv2.imshow('convex hull_1', ori_img)\n",
    "cv2.waitKey(0)\n",
    "cv2.destroyAllWindows()"
   ]
  }
 ]
}