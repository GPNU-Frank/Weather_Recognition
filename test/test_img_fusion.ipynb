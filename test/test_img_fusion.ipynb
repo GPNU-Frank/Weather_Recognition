{
 "metadata": {
  "language_info": {
   "codemirror_mode": {
    "name": "ipython",
    "version": 3
   },
   "file_extension": ".py",
   "mimetype": "text/x-python",
   "name": "python",
   "nbconvert_exporter": "python",
   "pygments_lexer": "ipython3",
   "version": "3.8.3-final"
  },
  "orig_nbformat": 2,
  "kernelspec": {
   "name": "python3",
   "display_name": "Python 3",
   "language": "python"
  }
 },
 "nbformat": 4,
 "nbformat_minor": 2,
 "cells": [
  {
   "cell_type": "code",
   "execution_count": 1,
   "metadata": {},
   "outputs": [],
   "source": [
    "import cv2\n",
    "import numpy as np\n",
    "import matplotlib.pyplot as plt"
   ]
  },
  {
   "cell_type": "code",
   "execution_count": 96,
   "metadata": {},
   "outputs": [],
   "source": [
    "path_img_thunder = \"../data/Thunderstorm/thunder_00021.jpg\"\n",
    "path_img_rain = \"../data/Rainy/7280_2020_12_29 15_21_27_91.jpg\""
   ]
  },
  {
   "cell_type": "code",
   "execution_count": 122,
   "metadata": {},
   "outputs": [],
   "source": [
    "img_thunder = cv2.imread(path_img_thunder)\n",
    "\n",
    "cv2.namedWindow(\"1\", cv2.WINDOW_AUTOSIZE)\n",
    "cv2.imshow(\"1\", img_thunder)\n",
    "k = cv2.waitKey(0)\n",
    "cv2.destroyAllWindows()"
   ]
  },
  {
   "cell_type": "code",
   "execution_count": 153,
   "metadata": {},
   "outputs": [],
   "source": [
    "img_rain = cv2.imread(path_img_rain)\n",
    "\n",
    "cv2.namedWindow(\"1\", cv2.WINDOW_AUTOSIZE)\n",
    "cv2.imshow(\"1\", img_rain)\n",
    "k = cv2.waitKey(0)\n",
    "cv2.destroyAllWindows()"
   ]
  },
  {
   "cell_type": "code",
   "execution_count": 155,
   "metadata": {},
   "outputs": [
    {
     "output_type": "stream",
     "name": "stdout",
     "text": [
      "29\n",
      "881 108 925 92 19726\n",
      "{14227, 1751148, 19726}\n",
      "6\n"
     ]
    }
   ],
   "source": [
    "img_rain_gray = cv2.cvtColor(img_rain, cv2.COLOR_BGR2GRAY)\n",
    "img_rain_gray = cv2.GaussianBlur(img_rain_gray, (5, 5), 0)\n",
    "img_rain_canny = cv2.Canny(img_rain_gray, 100, 140)\n",
    "\n",
    "kernel = cv2.getStructuringElement(cv2.MORPH_RECT, (13, 13))\n",
    "img_dilated = cv2.dilate(img_rain_canny, kernel)\n",
    "\n",
    "# 轮廓\n",
    "# contours, hierarchy = cv2.findContours(img_dilated, cv2.RETR_EXTERNAL, cv2.CHAIN_APPROX_SIMPLE)\n",
    "# print(\"number of contours: %d\" % len(contours))\n",
    "# img_dilated = cv2.drawContours(img_dilated, contours, -1, (0, 255, 255), 2)\n",
    "\n",
    "num_labels, labels, stats, centroids = cv2.connectedComponentsWithStats(img_dilated, connectivity=8, ltype=cv2.CV_32S)\n",
    "\n",
    "hight, width = img_dilated.shape\n",
    "print(num_labels)\n",
    "best_x, best_y, best_w, best_h, best_area = 0, 0, 0, 0, 0\n",
    "for idx, (x, y, w, h, area) in enumerate(stats):\n",
    "    if w >= width / 3 and x != 0 and y != 0 :\n",
    "        if y + h < best_y + best_h or best_y == 0:\n",
    "            best_x, best_y, best_w, best_h, best_area = x, y, w, h, area\n",
    "            max_area = best_w * best_h\n",
    "            flag = 0\n",
    "            area_set = set()\n",
    "            print(best_x, best_y, best_w, best_h, best_area)\n",
    "            cv2.rectangle(img_dilated, (x, y), (x + w, y + h), (255, 255, 255))\n",
    "            for i in range(best_w):\n",
    "                for j in range(best_h):\n",
    "                    # if flag:\n",
    "                    #     break\n",
    "                    area_set.add(stats[labels[y + j, x + i]][-1])\n",
    "                    if stats[labels[y + j, x + i]][-1] == best_area:\n",
    "                        sky_line_num = labels[y + j, x + i]\n",
    "                        flag = 1\n",
    "            print(area_set)\n",
    "            print(sky_line_num)\n",
    "        # print(x, y, w, h)\n",
    "        # s_x, s_y = x, y\n",
    "        # cv2.rectangle(img_dilated, (x, y), (x + w, y + h), (255, 255, 255))\n",
    "        # s_x, s_y = centroids[idx]\n",
    "        # print(s_x, s_y)\n",
    "        # cv2.circle(img_dilated, (int(s_y), int(s_x)), 200, (255, 255, 255))\n",
    "        # sky_line_num = labels[int(s_y), int(s_x)]\n",
    "\n",
    "# print(int(s_y), int(s_x))\n",
    "# print(img_dilated.shape)\n",
    "# cv2.circle(img_dilated, (int(s_y), int(s_x)), 200, (255, 255, 255), -1)\n",
    "black_img = np.zeros((hight, width, 3), dtype=np.uint8)\n",
    "# cv2.circle(black_img, (int(s_y), int(s_x)), 200, (0, 0, 255), -1)\n",
    "threshold = [0] * width\n",
    "low_x, low_y = 0, 0\n",
    "\n",
    "for i in range(hight):\n",
    "    for j in range(width):\n",
    "        if labels[i, j] == sky_line_num:\n",
    "            threshold[j] = max(threshold[j], i)\n",
    "            if threshold[j] > low_y:\n",
    "                low_x, low_y = j, threshold[j]\n",
    "            black_img[i, j] = [0, 0, 255]\n",
    "\n",
    "for i in range(width):\n",
    "    if not (best_x <= i <= best_x + best_w):\n",
    "        threshold[i] = best_y\n",
    "\n",
    "for i in range(width):\n",
    "    black_img[0:threshold[i], i] = (255, 255, 255)\n",
    "    black_img[threshold[i]: hight, i] = (0, 0, 0)\n",
    "cv2.imshow(\"1\", img_dilated)\n",
    "# print(stats)\n",
    "cv2.imshow(\"2\", img_rain)\n",
    "k = cv2.waitKey(0)\n",
    "cv2.destroyAllWindows()"
   ]
  },
  {
   "cell_type": "code",
   "execution_count": 33,
   "metadata": {},
   "outputs": [],
   "source": [
    "# 图片融合\n",
    "hight, width = 224, 224\n",
    "img_thunder = cv2.resize(img_thunder, (224, 224))\n",
    "img_rain = cv2.resize(img_rain, (224, 224))\n",
    "\n",
    "img_fusion = cv2.addWeighted(img_rain, 0.6, img_thunder, 0.4, 0)\n",
    "cv2.imshow(\"1\", img_fusion)\n",
    "# cv2.imshow(\"1\", img_thunder)\n",
    "k = cv2.waitKey(0)\n",
    "cv2.destroyAllWindows()"
   ]
  },
  {
   "cell_type": "code",
   "execution_count": 135,
   "metadata": {},
   "outputs": [],
   "source": [
    "\n",
    "img_canny = cv2.Canny(img_thunder, 100, 150)\n",
    "\n",
    "kernel = cv2.getStructuringElement(cv2.MORPH_RECT, (3,3))\n",
    "img_dilated = cv2.dilate(img_canny, kernel)\n",
    "# img_dilated = img_dilated[:350, :]\n",
    "d_h, d_w = img_dilated.shape\n",
    "img_dilated = cv2.resize(img_dilated, ((best_y + best_h), int((best_y + best_h) * d_w / d_h)))\n",
    "# result = cv2.bitwise_and(img_thunder, img_thunder, mask=img_dilated)\n",
    "# cv2.imshow('1', img_dilated)\n",
    "# result = result[:350, :]\n",
    "# r_h, r_w, _ = result.shape\n",
    "# result = cv2.resize(result, ((best_y + best_h), int((best_y + best_h) * r_w / r_h)))\n",
    "# thunder_fusion = cv2.bitwise_and\n",
    "cv2.imshow('1', img_dilated)\n",
    "k = cv2.waitKey()\n",
    "cv2.destroyAllWindows()"
   ]
  },
  {
   "cell_type": "code",
   "execution_count": 149,
   "metadata": {},
   "outputs": [
    {
     "output_type": "stream",
     "name": "stdout",
     "text": [
      "1380 0 200 305\n"
     ]
    }
   ],
   "source": [
    "# 原图片roi\n",
    "target_h, target_w = img_dilated.shape\n",
    "roi_x = max(0, low_x - target_w // 2)\n",
    "roi_y = 0\n",
    "roi_h = target_h\n",
    "roi_w = target_w\n",
    "print(roi_x, roi_y, roi_w, roi_h)\n",
    "# black_img = cv2.cvtColor(black_img, cv2.COLOR_BGR2GRAY)\n",
    "roi_mask = black_img[roi_y: roi_y + roi_h, roi_x: roi_x + roi_w]\n",
    "roi = img_rain[roi_y: roi_y + roi_h, roi_x: roi_x + roi_w, :]\n",
    "roi_mask = cv2.bitwise_not(roi_mask)\n",
    "final_mask = cv2.bitwise_or(roi_mask, img_dilated)\n",
    "roi_mask = cv2.bitwise_not(roi_mask)\n",
    "final_mask = cv2.bitwise_and(final_mask, roi_mask)\n",
    "\n",
    "test_thunder = img_thunder[:, :, :]\n",
    "test_thunder = cv2.resize(test_thunder, ((best_y + best_h), int((best_y + best_h) * d_w / d_h)))\n",
    "thunder = cv2.bitwise_and(test_thunder, test_thunder, mask=final_mask)\n",
    "\n",
    "final_mask_inv = cv2.bitwise_not(final_mask)\n",
    "\n",
    "back_ground = cv2.bitwise_and(roi, roi, mask=final_mask_inv)\n",
    "\n",
    "fusion = cv2.add(thunder, back_ground)\n",
    "result_thunder = img_rain[:, :, :]\n",
    "result_thunder[roi_y: roi_y + roi_h, roi_x: roi_x + roi_w, :] = fusion\n",
    "cv2.imshow('1', result_thunder)\n",
    "k = cv2.waitKey()\n",
    "cv2.destroyAllWindows()"
   ]
  },
  {
   "cell_type": "code",
   "execution_count": 151,
   "metadata": {},
   "outputs": [],
   "source": [
    "# 图像色调转移\n",
    "from color_transfer import color_transfer\n",
    "\n",
    "path_img_thunder_1 = \"../data/Thunderstorm/thunder_00898.jpg\"\n",
    "img_thunder_1 = cv2.imread(path_img_thunder_1)\n",
    "transfer = color_transfer(img_thunder_1, img_rain)\n",
    "\n",
    "cv2.imshow('1', transfer)\n",
    "k = cv2.waitKey()\n",
    "cv2.destroyAllWindows()"
   ]
  }
 ]
}