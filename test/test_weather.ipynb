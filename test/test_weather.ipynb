{
 "metadata": {
  "language_info": {
   "codemirror_mode": {
    "name": "ipython",
    "version": 3
   },
   "file_extension": ".py",
   "mimetype": "text/x-python",
   "name": "python",
   "nbconvert_exporter": "python",
   "pygments_lexer": "ipython3",
   "version": "3.8.3-final"
  },
  "orig_nbformat": 2,
  "kernelspec": {
   "name": "python3",
   "display_name": "Python 3",
   "language": "python"
  }
 },
 "nbformat": 4,
 "nbformat_minor": 2,
 "cells": [
  {
   "cell_type": "code",
   "execution_count": 1,
   "metadata": {},
   "outputs": [],
   "source": [
    "import requests\n",
    "import re\n",
    "from collections import defaultdict\n",
    "import pandas"
   ]
  },
  {
   "cell_type": "code",
   "execution_count": 8,
   "metadata": {},
   "outputs": [],
   "source": [
    "import urllib.request, urllib.error, urllib.parse\n",
    "import json\n",
    "import city"
   ]
  },
  {
   "cell_type": "code",
   "execution_count": 4,
   "metadata": {},
   "outputs": [],
   "source": [
    "city_dict = {\n",
    "    '广东省': [\"广州\", \"韶关\", \"惠州\", \"梅州\", \"汕头\", \"深圳\", \"珠海\", \"佛山\", \"肇庆\", \"湛江\", \"江门\", \"河源\", \"清远\", \"云浮\", \"潮州\", \"东莞\", \"中山\", \"阳江\", \"揭阳\", \"茂名\", \"汕尾\"],\n",
    "    '江西省': [\"南昌\", \"九江\", \"上饶\", \"抚州\", \"宜春\", \"吉安\", \"赣州\", \"景德镇\", \"萍乡\", \"新余\", \"鹰潭\"],\n",
    "    '辽宁省': [\"沈阳\", \"大连\", \"鞍山\", \"抚顺\", \"本溪\", \"丹东\", \"锦州\", \"营口\", \"阜新\", \"辽阳\", \"铁岭\", \"朝阳\", \"盘锦\", \"葫芦岛\"],\n",
    "}\n",
    "\n",
    "app_id = '32518584'\n",
    "app_secret = 'K1QKk2FN'\n",
    "\n",
    "result_dict = defaultdict(list)"
   ]
  },
  {
   "cell_type": "code",
   "execution_count": 5,
   "metadata": {},
   "outputs": [],
   "source": [
    "def weather(province_name, city_name):\n",
    "        \n",
    "    url = \"https://www.tianqiapi.com/api/?version=v1&appid=\" + app_id +\"&appsecret=\" + app_secret + \"&city=\"\n",
    "    url_now = url + city_name\n",
    "    rs_we = requests.get(url_now).json()\n",
    "    weather_city = rs_we[\"city\"]\n",
    "    if weather_city == city_name:\n",
    "        # print(weather_city + \"-一周天气预报（3小时更新一次）：\")\n",
    "        for x in range(0,7):\n",
    "            weather_day = rs_we[\"data\"][x][\"day\"] # 日期\n",
    "            weather_date = rs_we[\"data\"][x][\"date\"] # 年月日\n",
    "            weather_week = rs_we[\"data\"][x][\"week\"] # 星期\n",
    "            weather_datetime = weather_date + \"\\000\" + weather_week + \"\\000\" + weather_day\n",
    "\n",
    "            weather_wea = rs_we[\"data\"][x][\"wea\"] # 天气情况\n",
    "\n",
    "            # print(weather_date + ' ' + weather_wea)\n",
    "            result_dict[weather_date].append(weather_wea)\n",
    "            # print(weather_info)\n",
    "        \n",
    "        result_dict['城市'].append(city_name)\n",
    "        result_dict['更新时间'].append(rs_we[\"update_time\"])\n",
    "        result_dict['省份'].append(province_name)\n",
    "\n",
    "        # weather_uptime = \"更新时间：\" + rs_we[\"update_time\"]\n",
    "\n",
    "    else:\n",
    "        print(\"当前地区无法查询天气预报\")\n",
    "        # print(city_name)"
   ]
  },
  {
   "cell_type": "code",
   "execution_count": 6,
   "metadata": {},
   "outputs": [],
   "source": [
    "def weather_cn(province_name, city_name):\n",
    "    url = 'http://www.weather.com.cn/data/cityinfo/%s.html'\n",
    "    code = city.citycode[city_name]\n",
    "    res = urllib.request.urlopen(url%code)\n",
    "    a = res.read()\n",
    "    data = json.loads(a)\n",
    "    result = data['weatherinfo']\n",
    "    str_temp = ('%s\\n%s ~ %s') % ( \n",
    "        result['weather'],\n",
    "        result['temp1'],\n",
    "        result['temp2'])\n",
    "    print(str_temp)"
   ]
  },
  {
   "cell_type": "code",
   "execution_count": 9,
   "metadata": {},
   "outputs": [
    {
     "output_type": "stream",
     "name": "stdout",
     "text": [
      "阵雨转暴雨\n26℃ ~ 29℃\n"
     ]
    }
   ],
   "source": [
    "weather_cn('', '广州')"
   ]
  },
  {
   "cell_type": "code",
   "execution_count": 28,
   "metadata": {},
   "outputs": [],
   "source": [
    "for key, val in result_dict.items():\n",
    "    print(key, len(val))"
   ]
  },
  {
   "cell_type": "code",
   "execution_count": 31,
   "metadata": {},
   "outputs": [
    {
     "output_type": "error",
     "ename": "KeyError",
     "evalue": "'city'",
     "traceback": [
      "\u001b[1;31m---------------------------------------------------------------------------\u001b[0m",
      "\u001b[1;31mKeyError\u001b[0m                                  Traceback (most recent call last)",
      "\u001b[1;32m<ipython-input-31-f7b514a79f86>\u001b[0m in \u001b[0;36m<module>\u001b[1;34m\u001b[0m\n\u001b[0;32m      2\u001b[0m \u001b[1;32mfor\u001b[0m \u001b[0mprovince_name\u001b[0m\u001b[1;33m,\u001b[0m \u001b[0mcities\u001b[0m \u001b[1;32min\u001b[0m \u001b[0mcity_dict\u001b[0m\u001b[1;33m.\u001b[0m\u001b[0mitems\u001b[0m\u001b[1;33m(\u001b[0m\u001b[1;33m)\u001b[0m\u001b[1;33m:\u001b[0m\u001b[1;33m\u001b[0m\u001b[1;33m\u001b[0m\u001b[0m\n\u001b[0;32m      3\u001b[0m         \u001b[1;32mfor\u001b[0m \u001b[0mcity\u001b[0m \u001b[1;32min\u001b[0m \u001b[0mcities\u001b[0m\u001b[1;33m:\u001b[0m\u001b[1;33m\u001b[0m\u001b[1;33m\u001b[0m\u001b[0m\n\u001b[1;32m----> 4\u001b[1;33m             \u001b[0mweather\u001b[0m\u001b[1;33m(\u001b[0m\u001b[0mprovince_name\u001b[0m\u001b[1;33m,\u001b[0m \u001b[0mcity\u001b[0m\u001b[1;33m)\u001b[0m\u001b[1;33m\u001b[0m\u001b[1;33m\u001b[0m\u001b[0m\n\u001b[0m",
      "\u001b[1;32m<ipython-input-27-0d9a338c4ac1>\u001b[0m in \u001b[0;36mweather\u001b[1;34m(province_name, city_name)\u001b[0m\n\u001b[0;32m      4\u001b[0m     \u001b[0murl_now\u001b[0m \u001b[1;33m=\u001b[0m \u001b[0murl\u001b[0m \u001b[1;33m+\u001b[0m \u001b[0mcity_name\u001b[0m\u001b[1;33m\u001b[0m\u001b[1;33m\u001b[0m\u001b[0m\n\u001b[0;32m      5\u001b[0m     \u001b[0mrs_we\u001b[0m \u001b[1;33m=\u001b[0m \u001b[0mrequests\u001b[0m\u001b[1;33m.\u001b[0m\u001b[0mget\u001b[0m\u001b[1;33m(\u001b[0m\u001b[0murl_now\u001b[0m\u001b[1;33m)\u001b[0m\u001b[1;33m.\u001b[0m\u001b[0mjson\u001b[0m\u001b[1;33m(\u001b[0m\u001b[1;33m)\u001b[0m\u001b[1;33m\u001b[0m\u001b[1;33m\u001b[0m\u001b[0m\n\u001b[1;32m----> 6\u001b[1;33m     \u001b[0mweather_city\u001b[0m \u001b[1;33m=\u001b[0m \u001b[0mrs_we\u001b[0m\u001b[1;33m[\u001b[0m\u001b[1;34m\"city\"\u001b[0m\u001b[1;33m]\u001b[0m\u001b[1;33m\u001b[0m\u001b[1;33m\u001b[0m\u001b[0m\n\u001b[0m\u001b[0;32m      7\u001b[0m     \u001b[1;32mif\u001b[0m \u001b[0mweather_city\u001b[0m \u001b[1;33m==\u001b[0m \u001b[0mcity_name\u001b[0m\u001b[1;33m:\u001b[0m\u001b[1;33m\u001b[0m\u001b[1;33m\u001b[0m\u001b[0m\n\u001b[0;32m      8\u001b[0m         \u001b[1;31m# print(weather_city + \"-一周天气预报（3小时更新一次）：\")\u001b[0m\u001b[1;33m\u001b[0m\u001b[1;33m\u001b[0m\u001b[1;33m\u001b[0m\u001b[0m\n",
      "\u001b[1;31mKeyError\u001b[0m: 'city'"
     ]
    }
   ],
   "source": [
    "result_dict = defaultdict(list)\n",
    "for province_name, cities in city_dict.items():\n",
    "        for city in cities:\n",
    "            weather(province_name, city)"
   ]
  },
  {
   "cell_type": "code",
   "execution_count": 30,
   "metadata": {},
   "outputs": [
    {
     "output_type": "execute_result",
     "data": {
      "text/plain": [
       "Empty DataFrame\n",
       "Columns: []\n",
       "Index: []"
      ],
      "text/html": "<div>\n<style scoped>\n    .dataframe tbody tr th:only-of-type {\n        vertical-align: middle;\n    }\n\n    .dataframe tbody tr th {\n        vertical-align: top;\n    }\n\n    .dataframe thead th {\n        text-align: right;\n    }\n</style>\n<table border=\"1\" class=\"dataframe\">\n  <thead>\n    <tr style=\"text-align: right;\">\n      <th></th>\n    </tr>\n  </thead>\n  <tbody>\n  </tbody>\n</table>\n</div>"
     },
     "metadata": {},
     "execution_count": 30
    }
   ],
   "source": [
    "result = pandas.DataFrame(result_dict)\n",
    "# result.to_csv(\"2020_12_28往后7天天气.csv\", encoding=\"utf_8_sig\")\n",
    "result\n"
   ]
  }
 ]
}