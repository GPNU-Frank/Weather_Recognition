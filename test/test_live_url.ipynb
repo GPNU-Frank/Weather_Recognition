{
 "metadata": {
  "language_info": {
   "codemirror_mode": {
    "name": "ipython",
    "version": 3
   },
   "file_extension": ".py",
   "mimetype": "text/x-python",
   "name": "python",
   "nbconvert_exporter": "python",
   "pygments_lexer": "ipython3",
   "version": "3.8.3-final"
  },
  "orig_nbformat": 2,
  "kernelspec": {
   "name": "python3",
   "display_name": "Python 3",
   "language": "python"
  }
 },
 "nbformat": 4,
 "nbformat_minor": 2,
 "cells": [
  {
   "cell_type": "code",
   "execution_count": 53,
   "metadata": {},
   "outputs": [],
   "source": [
    "import os\n",
    "import json\n",
    "import re\n",
    "from collections import defaultdict\n",
    "import time"
   ]
  },
  {
   "cell_type": "code",
   "execution_count": 54,
   "metadata": {},
   "outputs": [],
   "source": [
    "txt_path = '../crawl_info.txt'"
   ]
  },
  {
   "cell_type": "code",
   "execution_count": 55,
   "metadata": {},
   "outputs": [],
   "source": [
    "camera_dict = defaultdict(list)"
   ]
  },
  {
   "cell_type": "code",
   "execution_count": 59,
   "metadata": {},
   "outputs": [
    {
     "output_type": "stream",
     "name": "stdout",
     "text": [
      "<class 'dict'>\n<class 'dict'>\n<class 'dict'>\n<class 'dict'>\n<class 'dict'>\n<class 'dict'>\n<class 'dict'>\n<class 'dict'>\n<class 'dict'>\n<class 'dict'>\n<class 'dict'>\n<class 'dict'>\n<class 'dict'>\n<class 'dict'>\n<class 'dict'>\n<class 'dict'>\n<class 'dict'>\n<class 'dict'>\n<class 'dict'>\n<class 'dict'>\n<class 'dict'>\n<class 'dict'>\n<class 'dict'>\n<class 'dict'>\n<class 'dict'>\n<class 'dict'>\n<class 'dict'>\n<class 'dict'>\n<class 'dict'>\n<class 'dict'>\n<class 'dict'>\n<class 'dict'>\n<class 'dict'>\n<class 'dict'>\n<class 'dict'>\n<class 'dict'>\n<class 'dict'>\n<class 'dict'>\n<class 'dict'>\n<class 'dict'>\n<class 'dict'>\n"
     ]
    }
   ],
   "source": [
    "with open(txt_path, 'rb') as f:\n",
    "    lines = f.readlines()\n",
    "    for l in lines:\n",
    "        s = l.decode('utf-8')\n",
    "        if s.isspace() or s.startswith('#'):\n",
    "            continue\n",
    "        if re.match('[a-zA-z]+://[^\\s]*', s):  # ulr 链接\n",
    "            # print(s)\n",
    "            # pass\n",
    "            camera_dict['url'].append(s)\n",
    "        else:\n",
    "            # print(s)\n",
    "            # break\n",
    "            camera_info = json.loads(s)\n",
    "            # print(camera_info)\n",
    "            # print(type(camera_info))\n",
    "            camera_dict['camera_info'].append(camera_info)"
   ]
  },
  {
   "cell_type": "code",
   "execution_count": 58,
   "metadata": {},
   "outputs": [
    {
     "output_type": "stream",
     "name": "stdout",
     "text": [
      "16 16\n"
     ]
    },
    {
     "output_type": "execute_result",
     "data": {
      "text/plain": [
       "{'code': 200,\n",
       " 'server_time': 1609156022,\n",
       " 'message': '',\n",
       " 'data': [{'uid': 'ABF1AD1F-5F7E-E3B9-A896-38A3921897CF',\n",
       "   'global_name': 'G9411(莞佛高速)广东东莞虎门大桥广东虎门大桥有限公司K42+016',\n",
       "   'direction': '双向',\n",
       "   'pile_no': 'K42',\n",
       "   'pile_distance': 16,\n",
       "   'longitude': 113.592506,\n",
       "   'latitude': 22.772768,\n",
       "   'has_control': '是',\n",
       "   'position_type': '路面监控',\n",
       "   'camera_type': '监控型球机',\n",
       "   'global_name_suffix': '',\n",
       "   'pile_numeric': 42.16,\n",
       "   'is_checkup': 0,\n",
       "   'road_uid': '79727703-3215-11ea-93db-5254005a2fe6',\n",
       "   'gateway_key': 'vg-1000-HMDQ',\n",
       "   'position_name': 'road',\n",
       "   'company': 'LT',\n",
       "   'traffic': {'traffic_type': '未知', 'traffic_status': 0},\n",
       "   'status': {'status': '在线',\n",
       "    'camera_uid': 'ABF1AD1F-5F7E-E3B9-A896-38A3921897CF'}}]}"
      ]
     },
     "metadata": {},
     "execution_count": 58
    }
   ],
   "source": [
    "print(len(camera_dict['camera_info']), len(camera_dict['url']))\n",
    "camera_dict['camera_info'][0]"
   ]
  },
  {
   "cell_type": "code",
   "execution_count": 49,
   "metadata": {
    "tags": []
   },
   "outputs": [
    {
     "output_type": "stream",
     "name": "stdout",
     "text": [
      "113.592506 22.772768 https://runpull.runoneapp.com/runone/hd-ABF1AD1F5F7EE3B9A89638A3921897CF.flv?t=5fe9c5b5&k=2c20dbae5acd6dcc0180545b20293cfd\n\n113.46955 23.547592 https://runpull.runoneapp.com/runone/hd-0BE9BBD8AF8AD296A56BC0B5544DCB59.flv?t=5fea87c6&k=a35fb6c6fcd09e052cee897cade39091\n\n112.648599 25.033595 https://runpull.runoneapp.com/runone/hd-0BEB20D25963CD6F99814FE9853BC445.flv?t=5fea8783&k=0727fe76b8a17780f1eb2b106bdb356c\n\n116.63886 23.749731 https://runpull.runoneapp.com/runone/hd-AB93A3639951AE6A76DC1A756F102D9B.flv?t=5fea87ef&k=7ba03ff08dad6fad00ed1386a587b447\n\n113.383144 23.151019 https://runpull.runoneapp.com/runone/hd-9B440B7EB8B466C9BD0C723F446D5A2A.flv?t=5fea8810&k=431c6a03600fbbaa9b47c641131290de\n\n116.590704 23.750655 https://runpull.runoneapp.com/runone/hd-8A3F07C90E7F5DDFABB55C10E5E8A711.flv?t=5fea8827&k=59f19a79a3be9f3bbd9926a6a723c800\n\n114.9879 24.157 https://runpull.runoneapp.com/runone/hd-5F7CC169EA99D16F87B49F2549EC2E44.flv?t=5fea8843&k=868c054fe5041a871858497d43d480bb\n\n115.84139 22.961287 https://runpull.runoneapp.com/runone/hd-0BC12E46FE8C05B4C2FA6219C7A8A92F.flv?t=5fea8891&k=bf417cd7ffa0a8f78f4c799005e9f339\n\n110.541381 21.354101 https://ucpull.runoneapp.com/runone/F4920BB77AA64EE0AF9E368296399365HZ1.flv?t=5fea88b4&k=d33da621dd10858735efc2b66ee109f8\n\n114.595849 24.499552 https://runpull.runoneapp.com/runone/hd-A67EAFBD20635F8CCB84ECC2EA430709.flv?t=5fea88dc&k=8a6a9cfd2a16846ca900748dc5cabd92\n\n113.872359 23.810711 https://runpull.runoneapp.com/runone/hd-719786A8C1700950EF0E5184CE378411.flv?t=5fea8919&k=a49b98472d2827ad778a96c8f174883a\n\n114.0336408 22.7327772 https://ucpull.runoneapp.com/runone/7617A1FD9C3A4E63B3C4B8D301DD76C6JHX1.flv?t=5fea8937&k=5959786413d64b087ebf5ad0a2e7a3f4\n\n114.96628 24.644606 https://runpull.runoneapp.com/runone/hd-EF136510D8D1B9DCF9358B5F4D1D344A.flv?t=5fea8957&k=c24322d9c02ac3dcdb85370436e32109\n\n114.29672 23.695827 https://ucpull.runoneapp.com/runone/069d843033b411ea900adcf401e8b304XB1.flv?t=5fea897a&k=dbcab8ae5573f8e0bf64862f8067da3a\n\n111.276851 21.904403 https://ucpull.runoneapp.com/runone/6A5B0D1ACB5445FA8EC82056511EFD40YH1.flv?UliveHost=ucpull.runoneapp.com&t=5fea89a6&k=9c0f89db4b689648362331201685217c\n\n116.351685 23.355661 https://runpull.runoneapp.com/runone/hd-3DF34E7AAE076A7134215F902CA21A17.flv?t=5fea89c8&k=c6bdfbaa1ec7c868a408b696f6ec46e9\n\n"
     ]
    }
   ],
   "source": [
    "for c, u in zip(camera_dict['camera_info'], camera_dict['url']):\n",
    "    print(c['data'][0]['longitude'], c['data'][0]['latitude'], u)\n",
    "\n",
    "# c['data'][0]['global_name']"
   ]
  },
  {
   "cell_type": "code",
   "execution_count": null,
   "metadata": {},
   "outputs": [],
   "source": [
    "print(camera_dict)"
   ]
  },
  {
   "cell_type": "code",
   "execution_count": 60,
   "metadata": {},
   "outputs": [],
   "source": [
    "# python 将json保存到文件\n",
    "now_time = time.strftime(\"%Y_%m_%d %H_%M_%S\", time.localtime())\n",
    "f = open(now_time + 'json.json', 'w')\n",
    "strings = json.dumps(camera_dict)\n",
    "f.write(strings)\n",
    "f.close()"
   ]
  }
 ]
}