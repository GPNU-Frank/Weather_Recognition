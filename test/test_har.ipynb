{
 "metadata": {
  "language_info": {
   "codemirror_mode": {
    "name": "ipython",
    "version": 3
   },
   "file_extension": ".py",
   "mimetype": "text/x-python",
   "name": "python",
   "nbconvert_exporter": "python",
   "pygments_lexer": "ipython3",
   "version": "3.8.3-final"
  },
  "orig_nbformat": 2,
  "kernelspec": {
   "name": "python3",
   "display_name": "Python 3",
   "language": "python"
  }
 },
 "nbformat": 4,
 "nbformat_minor": 2,
 "cells": [
  {
   "cell_type": "code",
   "execution_count": 4,
   "metadata": {},
   "outputs": [
    {
     "output_type": "stream",
     "name": "stdout",
     "text": [
      "torch.Size([16, 10]) torch.Size([16]) torch.Size([16])\n0.7400995492935181\n"
     ]
    }
   ],
   "source": [
    "import torch\n",
    "import torch.nn as nn\n",
    "\n",
    "model = nn.Linear(10, 1)\n",
    "criterion = nn.BCEWithLogitsLoss()\n",
    "\n",
    "# criterion = nn.BCELoss()\n",
    "x = torch.randn(16, 10)\n",
    "y = torch.empty(16).random_(2)  # (16, )\n",
    "\n",
    "out = model(x)  # (16, 1)\n",
    "out = out.squeeze(dim=-1)  # (16, )\n",
    "\n",
    "print(x.shape, out.shape, y.shape)\n",
    "loss = criterion(out, y)\n",
    "\n",
    "print(loss.item())"
   ]
  }
 ]
}